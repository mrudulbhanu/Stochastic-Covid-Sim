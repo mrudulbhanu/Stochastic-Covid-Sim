{
 "cells": [
  {
   "cell_type": "markdown",
   "metadata": {},
   "source": [
    "Algorithm of SIR model\n",
    "1. An array is used to represent the population in a grid lattice where 0,1 and 2 represent the Suscpetible , infected and recovered rescpetively.\n",
    "2. beta and gamma are the propensity value for a single cell to cause a transmission ( infection or recovery).\n",
    "In local transmission following are the steps considred\n",
    "-Getting cartisian pair value of cell with value '1'.\n",
    "-Getting the set of neighbours to the above list who has the value '0'. Set is considered to avoid repeatation. \n",
    "-assiging value 1 or 0 to variable 'rand1' with a probablity of beta propensity for each iteration wrt values in set(susceptible neighbours) and adding this varaible 'rand1' to the cell.Thus the randomness of transmission is wrt to the propensity value.\n",
    "-same is done for the global transmission. Number of itteriation for global tranmssion is with rescpect to the number of infected cells.\n",
    "3. Each infected cell is located first. Propensity value beta is used as probabilty of infecting the respective neighbouring cell or another global person.\n",
    "4. Infected person are changed to recovery with the propensity value gamma with time. \n",
    "5. p value denotes the probability of local transmission. Probablity of Global transmission is calculated as (1-p). \n"
   ]
  },
  {
   "cell_type": "code",
   "execution_count": null,
   "metadata": {},
   "outputs": [],
   "source": [
    "\n",
    "#importing libraries\n",
    "import pandas as pd\n",
    "import numpy as np\n",
    "import matplotlib.pyplot as plt\n",
    "import matplotlib.animation as ani\n",
    "import random as rn\n",
    "import time\n",
    "from openpyxl import Workbook\n",
    "import os\n",
    "%matplotlib inline\n"
   ]
  },
  {
   "cell_type": "code",
   "execution_count": null,
   "metadata": {},
   "outputs": [],
   "source": [
    "#Global Variables used in the simulation\n",
    "#S,I,R are the counts of Susceptible , Infected and Recovered\n",
    "#SI_pair is the neighbouring Susceptible and Infected which results in the local transmission of Disease\n",
    "S=[]\n",
    "I=[]\n",
    "R=[]\n",
    "t=[0]\n",
    "SI_pair=[0]\n",
    "local_transmission_no=0\n",
    "global_transmission_no=0\n",
    "animation=0\n",
    "matrices=[]\n",
    "S_df=pd.DataFrame()\n",
    "I_df=pd.DataFrame()\n",
    "R_df=pd.DataFrame()\n",
    "SI_pair_df=pd.DataFrame()\n",
    "I_df_updated=pd.DataFrame()\n",
    "Sim_statistics=pd.DataFrame()\n",
    "local_infection_ratio=pd.DataFrame()\n",
    "local_infection_ratio_sim=[]\n",
    "peak=[]\n",
    "peak_day=[]\n",
    "Reproductive_No=0\n",
    "beta = 0\n",
    "gamma = 0\n",
    "day_25=[]\n",
    "day_50=[]\n",
    "day_75=[]\n",
    "beta_list=[]\n",
    "P_values=[]\n",
    "Sim_graph_flag1=0 # Assign flag value 0 if Simulation Graphs are Needed else 1 to skip \n",
    "\n"
   ]
  },
  {
   "cell_type": "code",
   "execution_count": null,
   "metadata": {},
   "outputs": [],
   "source": [
    "#Declaring the variables as global variable\n",
    "\n"
   ]
  },
  {
   "cell_type": "markdown",
   "metadata": {},
   "source": [
    "#Defining the functions"
   ]
  },
  {
   "cell_type": "code",
   "execution_count": null,
   "metadata": {},
   "outputs": [],
   "source": [
    "#getting the status count of population at a time step\n",
    "def pop_stat(sus,inf,rec,mtx):\n",
    "    sus.append(mtx[np.where(mtx==0)].size)\n",
    "    inf.append(mtx[np.where(mtx==1)].size)\n",
    "    rec.append(mtx[np.where(mtx==2)].size)"
   ]
  },
  {
   "cell_type": "code",
   "execution_count": null,
   "metadata": {},
   "outputs": [],
   "source": [
    "#Acquires the location of the neighbouring suscpetible to the infected in a time step. Gives the list of cartesian pair of the Suscptibles.\n",
    "#Neighbours are considered in the vertical and horizontal directions. Diagonals are avoided.\n",
    "def SI_neighbour(mtx):\n",
    "    index_x=[]\n",
    "    index_y=[]\n",
    "    index_x,index_y, =np.where(mtx==1)\n",
    "    neigh_loc=set()\n",
    "    for (i,j) in zip(index_x,index_y):\n",
    "        #print(i,j)\n",
    "        if i+1 <grid_size:\n",
    "            if mtx[[i+1],[j]] == 0:\n",
    "                neigh_loc.add(tuple(([i+1,j])))\n",
    "        if i-1 > -1:\n",
    "            if mtx[[i-1],[j]] == 0:\n",
    "                neigh_loc.add(tuple(([i-1,j])))\n",
    "        if j+1 <grid_size:\n",
    "            if mtx[[i],[j+1]] == 0:\n",
    "                neigh_loc.add(tuple(([i,j+1])))\n",
    "        if j-1 >-1:\n",
    "            if mtx[[i],[j-1]] == 0:\n",
    "                neigh_loc.add(tuple(([i,j-1])))            \n",
    "    return neigh_loc"
   ]
  },
  {
   "cell_type": "code",
   "execution_count": null,
   "metadata": {},
   "outputs": [],
   "source": [
    "#infected people are changed to recovred with the probability of the gamma value.\n",
    "def recovering(mtx,gamma):\n",
    "    recover_index_x,recover_index_y,= np.where(mtx==1)\n",
    "    for (i,j) in zip (recover_index_x,recover_index_y):\n",
    "        rand1=rn.choices([1,0],weights= [gamma,1-gamma],k=1)\n",
    "        mtx[i,j]=mtx[i,j]+rand1"
   ]
  },
  {
   "cell_type": "code",
   "execution_count": null,
   "metadata": {},
   "outputs": [],
   "source": [
    "#infecting the neighbouring susceptible cells with a probablity of beta\n",
    "#1 infected person has possibilty to infect another one susceptible in a time step.\n",
    "#  A susceptible is chosen at random from the respective suscptible list\n",
    "def local_infection(mtx,beta):\n",
    "    SI_locs= SI_neighbour(mtx)\n",
    "    for i in range (I[-1]):\n",
    "        randneigh=[]\n",
    "        if len(SI_locs) == 0:\n",
    "            continue\n",
    "        randneigh=rn.choices(tuple(SI_locs))\n",
    "        rand1=rn.choices([1,0],weights= [beta,1-beta],k=1)\n",
    "        if mtx[randneigh[0][0],randneigh[0][1]]==0:\n",
    "            mtx[randneigh[0][0],randneigh[0][1]]=mtx[randneigh[0][0],randneigh[0][1]]+rand1    "
   ]
  },
  {
   "cell_type": "code",
   "execution_count": null,
   "metadata": {},
   "outputs": [],
   "source": [
    "#Suceptibles are infected in global level\n",
    "#Number of global suscptible considered in a time step is same as the number of SI pair so that a tally is kept between the local and global.\n",
    "#1 infected person has possibilty to infect another one susceptible in a time step.\n",
    "#  A susceptible is chosen at random from the respective suscptible list\n",
    "def global_infection(mtx,beta):\n",
    "    global_pop=set()\n",
    "    index_x,index_y, =np.where(mtx==0) \n",
    "    for (i,j) in zip(index_x,index_y):\n",
    "        global_pop.add(tuple(list([i,j])))\n",
    "    \n",
    "    for i in range (len(global_pop)):\n",
    "        if len(global_pop) == 0:\n",
    "            continue\n",
    "        randneigh=[]\n",
    "        randneigh=rn.choices(tuple(global_pop))\n",
    "        rand1=rn.choices([1,0],weights=[beta,1-beta],k=1)\n",
    "        if mtx[randneigh[0][0],randneigh[0][1]]==0:\n",
    "            mtx[randneigh[0][0],randneigh[0][1]]=mtx[randneigh[0][0],randneigh[0][1]]+rand1"
   ]
  },
  {
   "cell_type": "code",
   "execution_count": null,
   "metadata": {},
   "outputs": [],
   "source": [
    "#Graph ploting funciton\n",
    "#Median is used to represent the simulation in general.\n",
    "#The IQR for infected is plotted as box\n",
    "\n",
    "def graph_plot_SIR(s,i,r,si):\n",
    "    fig, (axs1,axs2) = plt.subplots(1,2,figsize=(20,10))\n",
    "    ts=list(range(1,len(s)+1))\n",
    "    ti=list(range(1,len(i)+1))\n",
    "    tr=list(range(1,len(r)+1))\n",
    "    tsi=list(range(1,len(si)+1))\n",
    "    axs1.plot(ts,s,label = 'Susecptible')\n",
    "    axs1.plot(ti,i,label = 'Infected')\n",
    "    axs1.plot(tr,r,label = 'Recovered')\n",
    "    axs1.plot([],[],' ',label ='Last Recovered Day:%.0f'%req_ind[0])\n",
    "    axs2.plot(tsi,si,label = 'SI Pair')\n",
    "    I_df_updated.T.boxplot(ax=axs1,grid=False,showfliers=False,whis=0,color='orange',patch_artist=True,boxprops={'alpha':0.5,'facecolor':'orange'})\n",
    "    axs1.legend(loc=1)\n",
    "    axs1.set_title('SIR p=%.1f $R_{o}$:%0.2f'%(p,Reproductive_No) )\n",
    "    axs2.set_title('SI pair p=%.1f $R_{o}$:%0.2f'%(p,Reproductive_No))\n",
    "    axs1.set_ylabel('Population')\n",
    "    axs1.set_xlabel('Days')\n",
    "    axs2.set_xlabel('Days')\n",
    "    axs1.xaxis.set_major_locator(plt.MaxNLocator())\n",
    "    # axs1.annotate('Peak Infected No %.2f '%peak,xy=(peak_day+20,peak+20),xytext=(grid_size,grid_size))\n",
    "    axs1.plot([peak_day[-1]+1],[peak[-1]],'o')\n",
    "    axs1.annotate('Day of the peak:%.0f\\nPeak Infected No:%.0f  '%(peak_day[-1] ,peak[-1]),xy=(peak_day[-1]+3,peak[-1]))\n",
    "    os.makedirs('SIR_Sim',exist_ok=True)\n",
    "    plt.savefig(os.path.join('SIR_SIM','p_%.1f_Ro%.1f.png'%(p,Reproductive_No)))\n",
    "    plt.xlabel('Days')\n",
    "    plt.show()\n"
   ]
  },
  {
   "cell_type": "code",
   "execution_count": null,
   "metadata": {},
   "outputs": [],
   "source": [
    "def graph_plot_p_peaks():\n",
    "    fig, (axs1) = plt.subplot(1,figsize=(20,10))\n",
    "    \n",
    "        "
   ]
  },
  {
   "cell_type": "code",
   "execution_count": null,
   "metadata": {},
   "outputs": [],
   "source": [
    "# Simulating the for one time \n",
    "# The values of S,I,R are stored in a pandas data frame.\n",
    "def simulation(j):\n",
    "    global S\n",
    "    global I\n",
    "    global R\n",
    "    global SI_pair\n",
    "    global global_transmission_no\n",
    "    global local_transmission_no\n",
    "    global local_infection_ratio_sim\n",
    "    global p\n",
    "    S=[]\n",
    "    I=[]\n",
    "    R=[]\n",
    "    SI_pair=[]\n",
    "    matx= matrix_init()\n",
    "    global_transmission_no =0\n",
    "    local_transmission_no=0\n",
    "    for i in range(tend):\n",
    "        prop=rn.uniform(0, 1)\n",
    "        if prop <p:\n",
    "            local_infection(matx,beta)    \n",
    "            local_transmission_no = local_transmission_no + 1\n",
    "        else:    \n",
    "            global_infection(matx,beta)\n",
    "            global_transmission_no=global_transmission_no + 1\n",
    "        SI_pair.append(len(SI_neighbour(matx)))\n",
    "        recovering(matx,gamma)\n",
    "        pop_stat(S,I,R,matx)\n",
    "    S_df[j]=S\n",
    "    I_df[j]=I\n",
    "    R_df[j]=R\n",
    "    SI_pair_df[j]=SI_pair\n",
    "    local_infection_ratio_sim.append(local_transmission_no/(local_transmission_no+global_transmission_no))\n",
    "    \n"
   ]
  },
  {
   "cell_type": "code",
   "execution_count": null,
   "metadata": {},
   "outputs": [],
   "source": [
    "#Running the same simulation number of time to find the average behaviour of the simulation.\n",
    "\n",
    "def sim_replication(n,Sim_graph_flag1):\n",
    "    #Performning the simulation and generating the data base\n",
    "    global I_df_updated\n",
    "    global req_ind\n",
    "    global peak\n",
    "    global peak_day\n",
    "    for j in range (num_sim):\n",
    "        simulation(j)\n",
    "    # Finding the mean values for each repeated simulation step \n",
    "    req_ind=[]  \n",
    "    S_df['S_Median']=S_df.median(axis=1)\n",
    "    I_df['I_Median']=I_df.median(axis=1)\n",
    "    R_df['R_Median']=R_df.median(axis=1)\n",
    "    SI_pair_df['SI_Median']=SI_pair_df.median(axis=1)\n",
    "    day_50.append(S_df['S_Median'].sub((grid_size*grid_size)/2).abs().idxmin())\n",
    "    day_25.append(S_df['S_Median'].sub((grid_size*grid_size)*3/4).abs().idxmin())\n",
    "    day_75.append(S_df['S_Median'].sub((grid_size*grid_size)/4).abs().idxmin())\n",
    "    peak.append(max(I_df['I_Median']))\n",
    "    peak_day.append(I_df.index[I_df['I_Median']==max(I_df['I_Median'])][0] )\n",
    "    req_ind=R_df.index[R_df['R_Median']==max(R_df['R_Median'])] \n",
    "    I_df_updated=I_df.head(req_ind[0]+1)   \n",
    "    if Sim_graph_flag1==0:\n",
    "        graph_plot_SIR(S_df.iloc[:req_ind[0]+1,-1],I_df.iloc[:req_ind[0]+1,-1],R_df.iloc[:req_ind[0]+1,-1],SI_pair_df.iloc[:req_ind[0]+1,-1])"
   ]
  },
  {
   "cell_type": "code",
   "execution_count": null,
   "metadata": {},
   "outputs": [],
   "source": [
    "#Running the whole simulatin for increasing p value\n",
    "def iter_infection_p():\n",
    "    global p\n",
    "    global P_values\n",
    "    p=0\n",
    "    for n in range(11):\n",
    "        sim_replication(n,Sim_graph_flag1)  \n",
    "        P_values.append(p)\n",
    "        p=p+0.1\n",
    "        beta_list.append(beta)"
   ]
  },
  {
   "cell_type": "code",
   "execution_count": null,
   "metadata": {},
   "outputs": [],
   "source": [
    "#Iterating Beta value 0.1 to 0.9\n",
    "#Plotting the Simulation statistics\n",
    "# ax=Sim_statistics.groupby('Beta_value')['Day of 50per infected'].plot(legend=True,title='P vs 50% Infected',ylabel='Days',grid=True)\n",
    "\n",
    "def Beta_iteration():\n",
    "    global beta\n",
    "    global Reproductive_No\n",
    "    for q in range (5):\n",
    "        Reproductive_No=beta/gamma\n",
    "        iter_infection_p()\n",
    "        beta=beta+0.2\n",
    "    Sim_statistics['Peak Infection']=peak\n",
    "    Sim_statistics['Day of Peak Infection']=peak_day\n",
    "    Sim_statistics['Day of 50per infected']=day_50\n",
    "    Sim_statistics['Day of 25per infected']=day_25\n",
    "    Sim_statistics['Day of 75per infected']=day_75\n",
    "    Sim_statistics['Beta_value']=beta_list\n",
    "    Sim_statistics['P_values']=P_values\n",
    "    Sim_statistics.set_index('P_values',inplace=True)\n",
    "    ax=Sim_statistics.groupby('Beta_value')['Day of 50per infected'].plot(legend=True,title='P vs 50% Infected',ylabel='Days',grid=True)\n",
    "    plt.legend(['0.1','0.3','0.5','0.7','0.9'],title='Beta')\n",
    "    Sim_statistics.set_index('Beta_value',append=True).swaplevel(0).to_excel('output.xlsx')\n"
   ]
  },
  {
   "cell_type": "markdown",
   "metadata": {},
   "source": [
    "Stocastic Simulation of SIR model"
   ]
  },
  {
   "cell_type": "code",
   "execution_count": null,
   "metadata": {},
   "outputs": [],
   "source": [
    "# defining Constants used\n",
    "#beta is the Infection rate constant\n",
    "#gamma is the recovering constant\n",
    "#tend is the number of time steps\n",
    "#total population is (grid size^2)\n",
    "#p is proportion for global and local transmission( local:global = p:1-p )\n",
    "\n",
    "gamma = 0.1\n",
    "beta = 0.1\n",
    "tend=150\n",
    "grid_size=25\n",
    "p=0\n",
    "num_sim=100\n",
    "Sim_graph_flag1=0 # Assign flag value 0 if Simulation Graphs are Needed else 1 to skip \n"
   ]
  },
  {
   "cell_type": "code",
   "execution_count": null,
   "metadata": {},
   "outputs": [],
   "source": [
    "#test matrix\n",
    "#cell with 0 is Susceptible\n",
    "#cell with 1 is infected\n",
    "#cell with 2 is recovered\n",
    "#Intializing the infection in the grid by assigning 1,\n",
    "def matrix_init():\n",
    "    mtx=np.zeros((grid_size,grid_size))\n",
    "    a=[1,6,7,8]\n",
    "    b=[1,4,5,6]\n",
    "    mtx[a,b]=1\n",
    "    pop_stat(S,I,R,mtx)\n",
    "    SI_pair.append(len(SI_neighbour(mtx)))\n",
    "\n",
    "    return mtx\n"
   ]
  },
  {
   "cell_type": "code",
   "execution_count": null,
   "metadata": {},
   "outputs": [],
   "source": [
    "\n",
    "Beta_iteration()"
   ]
  },
  {
   "cell_type": "code",
   "execution_count": null,
   "metadata": {},
   "outputs": [],
   "source": [
    "Sim_statistics.set_index('Beta_value',append=True).swaplevel(0)\n",
    "# Sim_statistics\n",
    "# Sim_statistics.swaplevel(0)\n"
   ]
  },
  {
   "cell_type": "markdown",
   "metadata": {},
   "source": [
    "def animi(i):    \n",
    "    ax.clear()\n",
    "    im = ax.imshow(matrices[:,:,i])\n",
    "anim = ani.FuncAnimation(fig, animi,frames=tend,  interval=1000, blit=False)\n",
    "from IPython.display import HTML\n",
    "HTML(anim.to_jshtml())\n",
    "anim.save('save.gif',dpi=80, writer='imagemagick')\n",
    "\n"
   ]
  },
  {
   "cell_type": "markdown",
   "metadata": {},
   "source": [
    "    # with pd.ExcelWriter('output.xlsx') as writer:\n",
    "    writer= pd.ExcelWriter('output.xlsx', engine='openpyxl')\n",
    "    sheet_names=(f'p=%d'%p)\n",
    "    I_df['I_Mean'].to_excel(writer,sheet_name=sheet_names,index=False,startcol=2)\n",
    "    R_df['R_Mean'].to_excel(writer,sheet_name=sheet_names,index=False,startcol=3)\n",
    "    S_df['S_Mean'].to_excel(writer,sheet_name=sheet_names,index=False,startcol=1)\n",
    "    SI_pair_df['SI_Mean'].to_excel(writer,sheet_name=sheet_names,index=False,startcol=4)\n"
   ]
  },
  {
   "cell_type": "markdown",
   "metadata": {},
   "source": [
    "    # with pd.ExcelWriter('output.xlsx') as writer:\n",
    "    writer= pd.ExcelWriter('output.xlsx', engine='openpyxl')\n",
    "    sheet_names=(f'p=%d'%p)\n",
    "    I_df['I_Mean'].to_excel(writer,sheet_name=sheet_names,index=False,startcol=2)\n",
    "    R_df['R_Mean'].to_excel(writer,sheet_name=sheet_names,index=False,startcol=3)\n",
    "    S_df['S_Mean'].to_excel(writer,sheet_name=sheet_names,index=False,startcol=1)\n",
    "    SI_pair_df['SI_Mean'].to_excel(writer,sheet_name=sheet_names,index=False,startcol=4)\n"
   ]
  }
 ],
 "metadata": {
  "interpreter": {
   "hash": "cc7b48b3f8872505d7e8eab358a9055ad8cf02a08a1c009df8c222e007e2d857"
  },
  "kernelspec": {
   "display_name": "Python 3.10.4 64-bit (windows store)",
   "language": "python",
   "name": "python3"
  },
  "language_info": {
   "codemirror_mode": {
    "name": "ipython",
    "version": 3
   },
   "file_extension": ".py",
   "mimetype": "text/x-python",
   "name": "python",
   "nbconvert_exporter": "python",
   "pygments_lexer": "ipython3",
   "version": "3.10.4"
  },
  "orig_nbformat": 4
 },
 "nbformat": 4,
 "nbformat_minor": 2
}
