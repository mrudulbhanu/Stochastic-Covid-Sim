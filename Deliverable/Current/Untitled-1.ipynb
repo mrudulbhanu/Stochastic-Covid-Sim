{
 "cells": [
  {
   "cell_type": "code",
   "execution_count": 1,
   "metadata": {},
   "outputs": [
    {
     "data": {
      "text/plain": [
       "[1, 2, 2, 3, 5, 7, 3, 1, 1, 4, 3, 6]"
      ]
     },
     "execution_count": 1,
     "metadata": {},
     "output_type": "execute_result"
    }
   ],
   "source": [
    "line = [1,2,2, 3, 5, 7, 3, 1, 1, 4, 3, 6]\n",
    "line\n",
    "orientation= [y-x for x, y in zip(line[:-1], line[1:])]\n",
    "orientationdec=orientation.copy()\n",
    "orientation\n",
    "for i in range(len(orientation)):\n",
    "    if i ==len(orientation):\n",
    "        break\n",
    "\n",
    "    if orientation[i]<=0 and orientation[i+1]<=0:\n",
    "        print(orientation[i+1])\n",
    "        orientation.pop(i+1)\n",
    "for i in range(len(orientation)):\n",
    "    if i ==len(orientation):\n",
    "        break\n",
    "\n",
    "    if orientation[i]<=0 and orientation[i+1]<=0:\n",
    "        print(orientation[i+1])\n",
    "        orientation.pop(i+1)\n",
    "print([len(orientationdec),len(orientationdec)])"
   ]
  },
  {
   "cell_type": "code",
   "execution_count": 2,
   "metadata": {},
   "outputs": [
    {
     "data": {
      "text/plain": [
       "[1, 0, 1, 2, 2, -4, -2, 0, 3, -1, 3]"
      ]
     },
     "execution_count": 2,
     "metadata": {},
     "output_type": "execute_result"
    }
   ],
   "source": [
    "orientation= [y-x for x, y in zip(line[:-1], line[1:])]\n",
    "orientationdec=orientation.copy()\n",
    "orientation"
   ]
  },
  {
   "cell_type": "code",
   "execution_count": 3,
   "metadata": {},
   "outputs": [
    {
     "name": "stdout",
     "output_type": "stream",
     "text": [
      "-2\n"
     ]
    },
    {
     "data": {
      "text/plain": [
       "[1, 0, 1, 2, 2, -4, 0, 3, -1, 3]"
      ]
     },
     "execution_count": 3,
     "metadata": {},
     "output_type": "execute_result"
    }
   ],
   "source": [
    "for i in range(len(orientation)):\n",
    "    if i ==len(orientation):\n",
    "        break\n",
    "\n",
    "    if orientation[i]<=0 and orientation[i+1]<=0:\n",
    "        print(orientation[i+1])\n",
    "        orientation.pop(i+1)\n",
    "orientation"
   ]
  },
  {
   "cell_type": "code",
   "execution_count": 4,
   "metadata": {},
   "outputs": [
    {
     "ename": "SyntaxError",
     "evalue": "invalid syntax. Maybe you meant '==' or ':=' instead of '='? (3906853196.py, line 7)",
     "output_type": "error",
     "traceback": [
      "\u001b[1;36m  Input \u001b[1;32mIn [4]\u001b[1;36m\u001b[0m\n\u001b[1;33m    if ascendingflag=1:\u001b[0m\n\u001b[1;37m       ^\u001b[0m\n\u001b[1;31mSyntaxError\u001b[0m\u001b[1;31m:\u001b[0m invalid syntax. Maybe you meant '==' or ':=' instead of '='?\n"
     ]
    }
   ],
   "source": []
  },
  {
   "cell_type": "code",
   "execution_count": null,
   "metadata": {},
   "outputs": [],
   "source": [
    "for i in range(len(orientationdec)):\n",
    "    if i ==len(orientationdec):\n",
    "        break\n",
    "    if orientationdec[i]>=0 and orientationdec[i+1]>=0:\n",
    "        print(orientationdec[i+1])\n",
    "        orientationdec.pop(i+1)\n",
    "orientationdec"
   ]
  }
 ],
 "metadata": {
  "kernelspec": {
   "display_name": "Python 3.10.5 64-bit (windows store)",
   "language": "python",
   "name": "python3"
  },
  "language_info": {
   "codemirror_mode": {
    "name": "ipython",
    "version": 3
   },
   "file_extension": ".py",
   "mimetype": "text/x-python",
   "name": "python",
   "nbconvert_exporter": "python",
   "pygments_lexer": "ipython3",
   "version": "3.10.5"
  },
  "orig_nbformat": 4,
  "vscode": {
   "interpreter": {
    "hash": "cc7b48b3f8872505d7e8eab358a9055ad8cf02a08a1c009df8c222e007e2d857"
   }
  }
 },
 "nbformat": 4,
 "nbformat_minor": 2
}
